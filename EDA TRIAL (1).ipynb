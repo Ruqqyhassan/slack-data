{
 "cells": [
  {
   "cell_type": "code",
   "execution_count": 1,
   "id": "6589583b",
   "metadata": {},
   "outputs": [],
   "source": [
    "import numpy as np"
   ]
  },
  {
   "cell_type": "code",
   "execution_count": 3,
   "id": "fff799a2",
   "metadata": {},
   "outputs": [],
   "source": [
    "import pandas as pd"
   ]
  },
  {
   "cell_type": "code",
   "execution_count": 4,
   "id": "8c1e40f6",
   "metadata": {},
   "outputs": [
    {
     "name": "stdout",
     "output_type": "stream",
     "text": [
      "Requirement already satisfied: pandas in c:\\users\\hassan-sodiq\\anaconda3\\lib\\site-packages (1.2.4)\n",
      "Requirement already satisfied: numpy>=1.16.5 in c:\\users\\hassan-sodiq\\anaconda3\\lib\\site-packages (from pandas) (1.20.1)\n",
      "Requirement already satisfied: pytz>=2017.3 in c:\\users\\hassan-sodiq\\anaconda3\\lib\\site-packages (from pandas) (2021.1)\n",
      "Requirement already satisfied: python-dateutil>=2.7.3 in c:\\users\\hassan-sodiq\\anaconda3\\lib\\site-packages (from pandas) (2.8.1)\n",
      "Requirement already satisfied: six>=1.5 in c:\\users\\hassan-sodiq\\anaconda3\\lib\\site-packages (from python-dateutil>=2.7.3->pandas) (1.15.0)\n",
      "Note: you may need to restart the kernel to use updated packages.\n"
     ]
    }
   ],
   "source": [
    "pip install pandas"
   ]
  },
  {
   "cell_type": "code",
   "execution_count": 35,
   "id": "306bb0ea",
   "metadata": {},
   "outputs": [],
   "source": [
    "df= pd.read_csv('C:/Users/Hassan-Sodiq/Downloads/StudentsPerformance.csv')"
   ]
  },
  {
   "cell_type": "code",
   "execution_count": 36,
   "id": "b4132152",
   "metadata": {},
   "outputs": [
    {
     "data": {
      "text/html": [
       "<div>\n",
       "<style scoped>\n",
       "    .dataframe tbody tr th:only-of-type {\n",
       "        vertical-align: middle;\n",
       "    }\n",
       "\n",
       "    .dataframe tbody tr th {\n",
       "        vertical-align: top;\n",
       "    }\n",
       "\n",
       "    .dataframe thead th {\n",
       "        text-align: right;\n",
       "    }\n",
       "</style>\n",
       "<table border=\"1\" class=\"dataframe\">\n",
       "  <thead>\n",
       "    <tr style=\"text-align: right;\">\n",
       "      <th></th>\n",
       "      <th>gender</th>\n",
       "      <th>race/ethnicity</th>\n",
       "      <th>parental level of education</th>\n",
       "      <th>lunch</th>\n",
       "      <th>test preparation course</th>\n",
       "      <th>math score</th>\n",
       "      <th>reading score</th>\n",
       "      <th>writing score</th>\n",
       "    </tr>\n",
       "  </thead>\n",
       "  <tbody>\n",
       "    <tr>\n",
       "      <th>0</th>\n",
       "      <td>female</td>\n",
       "      <td>group B</td>\n",
       "      <td>bachelor's degree</td>\n",
       "      <td>standard</td>\n",
       "      <td>none</td>\n",
       "      <td>72</td>\n",
       "      <td>72</td>\n",
       "      <td>74</td>\n",
       "    </tr>\n",
       "    <tr>\n",
       "      <th>1</th>\n",
       "      <td>female</td>\n",
       "      <td>group C</td>\n",
       "      <td>some college</td>\n",
       "      <td>standard</td>\n",
       "      <td>completed</td>\n",
       "      <td>69</td>\n",
       "      <td>90</td>\n",
       "      <td>88</td>\n",
       "    </tr>\n",
       "    <tr>\n",
       "      <th>2</th>\n",
       "      <td>female</td>\n",
       "      <td>group B</td>\n",
       "      <td>master's degree</td>\n",
       "      <td>standard</td>\n",
       "      <td>none</td>\n",
       "      <td>90</td>\n",
       "      <td>95</td>\n",
       "      <td>93</td>\n",
       "    </tr>\n",
       "    <tr>\n",
       "      <th>3</th>\n",
       "      <td>male</td>\n",
       "      <td>group A</td>\n",
       "      <td>associate's degree</td>\n",
       "      <td>free/reduced</td>\n",
       "      <td>none</td>\n",
       "      <td>47</td>\n",
       "      <td>57</td>\n",
       "      <td>44</td>\n",
       "    </tr>\n",
       "    <tr>\n",
       "      <th>4</th>\n",
       "      <td>male</td>\n",
       "      <td>group C</td>\n",
       "      <td>some college</td>\n",
       "      <td>standard</td>\n",
       "      <td>none</td>\n",
       "      <td>76</td>\n",
       "      <td>78</td>\n",
       "      <td>75</td>\n",
       "    </tr>\n",
       "  </tbody>\n",
       "</table>\n",
       "</div>"
      ],
      "text/plain": [
       "   gender race/ethnicity parental level of education         lunch  \\\n",
       "0  female        group B           bachelor's degree      standard   \n",
       "1  female        group C                some college      standard   \n",
       "2  female        group B             master's degree      standard   \n",
       "3    male        group A          associate's degree  free/reduced   \n",
       "4    male        group C                some college      standard   \n",
       "\n",
       "  test preparation course  math score  reading score  writing score  \n",
       "0                    none          72             72             74  \n",
       "1               completed          69             90             88  \n",
       "2                    none          90             95             93  \n",
       "3                    none          47             57             44  \n",
       "4                    none          76             78             75  "
      ]
     },
     "execution_count": 36,
     "metadata": {},
     "output_type": "execute_result"
    }
   ],
   "source": [
    "df.head()"
   ]
  },
  {
   "cell_type": "code",
   "execution_count": 11,
   "id": "36ebec8d",
   "metadata": {},
   "outputs": [
    {
     "data": {
      "text/plain": [
       "(1000, 8)"
      ]
     },
     "execution_count": 11,
     "metadata": {},
     "output_type": "execute_result"
    }
   ],
   "source": [
    "#Our data frame has 1000 rows and 8 columns.\n",
    "df.shape"
   ]
  },
  {
   "cell_type": "code",
   "execution_count": 13,
   "id": "b4474709",
   "metadata": {
    "scrolled": true
   },
   "outputs": [
    {
     "data": {
      "text/plain": [
       "<bound method IndexOpsMixin.value_counts of 0      female\n",
       "1      female\n",
       "2      female\n",
       "3        male\n",
       "4        male\n",
       "        ...  \n",
       "995    female\n",
       "996      male\n",
       "997    female\n",
       "998    female\n",
       "999    female\n",
       "Name: gender, Length: 1000, dtype: object>"
      ]
     },
     "execution_count": 13,
     "metadata": {},
     "output_type": "execute_result"
    }
   ],
   "source": [
    "df.gender.value_counts"
   ]
  },
  {
   "cell_type": "code",
   "execution_count": 37,
   "id": "11f80465",
   "metadata": {},
   "outputs": [
    {
     "data": {
      "text/plain": [
       "0      female\n",
       "1      female\n",
       "2      female\n",
       "3        male\n",
       "4        male\n",
       "        ...  \n",
       "995    female\n",
       "996      male\n",
       "997    female\n",
       "998    female\n",
       "999    female\n",
       "Name: gender, Length: 1000, dtype: object"
      ]
     },
     "execution_count": 37,
     "metadata": {},
     "output_type": "execute_result"
    }
   ],
   "source": [
    "df['gender']"
   ]
  },
  {
   "cell_type": "raw",
   "id": "528b549f",
   "metadata": {},
   "source": []
  },
  {
   "cell_type": "code",
   "execution_count": 20,
   "id": "642a3a89",
   "metadata": {},
   "outputs": [
    {
     "data": {
      "text/html": [
       "<div>\n",
       "<style scoped>\n",
       "    .dataframe tbody tr th:only-of-type {\n",
       "        vertical-align: middle;\n",
       "    }\n",
       "\n",
       "    .dataframe tbody tr th {\n",
       "        vertical-align: top;\n",
       "    }\n",
       "\n",
       "    .dataframe thead th {\n",
       "        text-align: right;\n",
       "    }\n",
       "</style>\n",
       "<table border=\"1\" class=\"dataframe\">\n",
       "  <thead>\n",
       "    <tr style=\"text-align: right;\">\n",
       "      <th></th>\n",
       "      <th>math score</th>\n",
       "      <th>reading score</th>\n",
       "      <th>writing score</th>\n",
       "    </tr>\n",
       "  </thead>\n",
       "  <tbody>\n",
       "    <tr>\n",
       "      <th>count</th>\n",
       "      <td>1000.00000</td>\n",
       "      <td>1000.000000</td>\n",
       "      <td>1000.000000</td>\n",
       "    </tr>\n",
       "    <tr>\n",
       "      <th>mean</th>\n",
       "      <td>66.08900</td>\n",
       "      <td>69.169000</td>\n",
       "      <td>68.054000</td>\n",
       "    </tr>\n",
       "    <tr>\n",
       "      <th>std</th>\n",
       "      <td>15.16308</td>\n",
       "      <td>14.600192</td>\n",
       "      <td>15.195657</td>\n",
       "    </tr>\n",
       "    <tr>\n",
       "      <th>min</th>\n",
       "      <td>0.00000</td>\n",
       "      <td>17.000000</td>\n",
       "      <td>10.000000</td>\n",
       "    </tr>\n",
       "    <tr>\n",
       "      <th>25%</th>\n",
       "      <td>57.00000</td>\n",
       "      <td>59.000000</td>\n",
       "      <td>57.750000</td>\n",
       "    </tr>\n",
       "    <tr>\n",
       "      <th>50%</th>\n",
       "      <td>66.00000</td>\n",
       "      <td>70.000000</td>\n",
       "      <td>69.000000</td>\n",
       "    </tr>\n",
       "    <tr>\n",
       "      <th>75%</th>\n",
       "      <td>77.00000</td>\n",
       "      <td>79.000000</td>\n",
       "      <td>79.000000</td>\n",
       "    </tr>\n",
       "    <tr>\n",
       "      <th>max</th>\n",
       "      <td>100.00000</td>\n",
       "      <td>100.000000</td>\n",
       "      <td>100.000000</td>\n",
       "    </tr>\n",
       "  </tbody>\n",
       "</table>\n",
       "</div>"
      ],
      "text/plain": [
       "       math score  reading score  writing score\n",
       "count  1000.00000    1000.000000    1000.000000\n",
       "mean     66.08900      69.169000      68.054000\n",
       "std      15.16308      14.600192      15.195657\n",
       "min       0.00000      17.000000      10.000000\n",
       "25%      57.00000      59.000000      57.750000\n",
       "50%      66.00000      70.000000      69.000000\n",
       "75%      77.00000      79.000000      79.000000\n",
       "max     100.00000     100.000000     100.000000"
      ]
     },
     "execution_count": 20,
     "metadata": {},
     "output_type": "execute_result"
    }
   ],
   "source": [
    "df.describe()"
   ]
  },
  {
   "cell_type": "code",
   "execution_count": 21,
   "id": "a0d52f47",
   "metadata": {},
   "outputs": [
    {
     "data": {
      "text/plain": [
       "<bound method DataFrame.info of      gender race/ethnicity parental level of education         lunch  \\\n",
       "0    female        group B           bachelor's degree      standard   \n",
       "1    female        group C                some college      standard   \n",
       "2    female        group B             master's degree      standard   \n",
       "3      male        group A          associate's degree  free/reduced   \n",
       "4      male        group C                some college      standard   \n",
       "..      ...            ...                         ...           ...   \n",
       "995  female        group E             master's degree      standard   \n",
       "996    male        group C                 high school  free/reduced   \n",
       "997  female        group C                 high school  free/reduced   \n",
       "998  female        group D                some college      standard   \n",
       "999  female        group D                some college  free/reduced   \n",
       "\n",
       "    test preparation course  math score  reading score  writing score  \n",
       "0                      none          72             72             74  \n",
       "1                 completed          69             90             88  \n",
       "2                      none          90             95             93  \n",
       "3                      none          47             57             44  \n",
       "4                      none          76             78             75  \n",
       "..                      ...         ...            ...            ...  \n",
       "995               completed          88             99             95  \n",
       "996                    none          62             55             55  \n",
       "997               completed          59             71             65  \n",
       "998               completed          68             78             77  \n",
       "999                    none          77             86             86  \n",
       "\n",
       "[1000 rows x 8 columns]>"
      ]
     },
     "execution_count": 21,
     "metadata": {},
     "output_type": "execute_result"
    }
   ],
   "source": [
    "df.info"
   ]
  },
  {
   "cell_type": "code",
   "execution_count": 54,
   "id": "9146eb16",
   "metadata": {},
   "outputs": [
    {
     "data": {
      "text/plain": [
       "array(['group B', 'group C', 'group B', 'group A', 'group C', 'group B',\n",
       "       'group B', 'group B', 'group D', 'group B', 'group C', 'group D',\n",
       "       'group B', 'group A', 'group A', 'group C', 'group C', 'group B',\n",
       "       'group C', 'group C', 'group D', 'group B', 'group D', 'group C',\n",
       "       'group D', 'group A', 'group B', 'group C', 'group C', 'group D',\n",
       "       'group D', 'group B', 'group E', 'group D', 'group E', 'group E',\n",
       "       'group D', 'group D', 'group D', 'group B', 'group C', 'group C',\n",
       "       'group B', 'group B', 'group E', 'group B', 'group A', 'group C',\n",
       "       'group D', 'group C', 'group E', 'group E', 'group C', 'group D',\n",
       "       'group C', 'group C', 'group E', 'group D', 'group D', 'group C',\n",
       "       'group E', 'group A', 'group A', 'group C', 'group D', 'group B',\n",
       "       'group D', 'group C', 'group B', 'group C', 'group D', 'group D',\n",
       "       'group A', 'group C', 'group C', 'group B', 'group E', 'group A',\n",
       "       'group D', 'group E', 'group B', 'group B', 'group A', 'group E',\n",
       "       'group D', 'group C', 'group C', 'group D', 'group A', 'group D',\n",
       "       'group C', 'group C', 'group C', 'group C', 'group B', 'group C',\n",
       "       'group B', 'group E', 'group D', 'group D', 'group B', 'group D',\n",
       "       'group D', 'group B', 'group C', 'group C', 'group D', 'group E',\n",
       "       'group B', 'group B', 'group D', 'group C', 'group A', 'group D',\n",
       "       'group E', 'group C', 'group B', 'group D', 'group D', 'group C',\n",
       "       'group C', 'group B', 'group C', 'group D', 'group E', 'group B',\n",
       "       'group B', 'group D', 'group D', 'group A', 'group D', 'group C',\n",
       "       'group E', 'group C', 'group D', 'group C', 'group B', 'group E',\n",
       "       'group C', 'group D', 'group D', 'group C', 'group E', 'group A',\n",
       "       'group D', 'group C', 'group B', 'group C', 'group D', 'group E',\n",
       "       'group A', 'group A', 'group B', 'group D', 'group D', 'group C',\n",
       "       'group E', 'group B', 'group B', 'group D', 'group B', 'group E',\n",
       "       'group B', 'group C', 'group E', 'group C', 'group C', 'group B',\n",
       "       'group B', 'group C', 'group A', 'group E', 'group D', 'group C',\n",
       "       'group C', 'group C', 'group B', 'group C', 'group B', 'group D',\n",
       "       'group C', 'group C', 'group E', 'group D', 'group C', 'group C',\n",
       "       'group E', 'group D', 'group B', 'group C', 'group E', 'group D',\n",
       "       'group B', 'group D', 'group C', 'group D', 'group C', 'group E',\n",
       "       'group B', 'group B', 'group C', 'group D', 'group C', 'group B',\n",
       "       'group C', 'group D', 'group E', 'group E', 'group B', 'group B',\n",
       "       'group D', 'group C', 'group C', 'group C', 'group E', 'group B',\n",
       "       'group E', 'group C', 'group B', 'group B', 'group D', 'group B',\n",
       "       'group C', 'group D', 'group B', 'group E', 'group C', 'group D',\n",
       "       'group A', 'group C', 'group D', 'group C', 'group B', 'group E',\n",
       "       'group C', 'group D', 'group D', 'group D', 'group B', 'group C',\n",
       "       'group D', 'group E', 'group D', 'group E', 'group D', 'group C',\n",
       "       'group E', 'group B', 'group B', 'group C', 'group A', 'group D',\n",
       "       'group B', 'group D', 'group D', 'group E', 'group C', 'group C',\n",
       "       'group B', 'group C', 'group C', 'group C', 'group C', 'group E',\n",
       "       'group D', 'group D', 'group C', 'group D', 'group D', 'group E',\n",
       "       'group C', 'group C', 'group D', 'group D', 'group B', 'group C',\n",
       "       'group C', 'group E', 'group C', 'group B', 'group D', 'group D',\n",
       "       'group D', 'group D', 'group B', 'group B', 'group E', 'group B',\n",
       "       'group B', 'group E', 'group C', 'group D', 'group C', 'group E',\n",
       "       'group D', 'group B', 'group A', 'group E', 'group C', 'group D',\n",
       "       'group A', 'group D', 'group C', 'group B', 'group C', 'group A',\n",
       "       'group E', 'group C', 'group B', 'group D', 'group B', 'group B',\n",
       "       'group D', 'group C', 'group C', 'group C', 'group D', 'group C',\n",
       "       'group B', 'group D', 'group C', 'group E', 'group C', 'group C',\n",
       "       'group C', 'group C', 'group C', 'group A', 'group C', 'group B',\n",
       "       'group C', 'group C', 'group E', 'group B', 'group C', 'group B',\n",
       "       'group D', 'group C', 'group B', 'group D', 'group C', 'group C',\n",
       "       'group B', 'group D', 'group D', 'group C', 'group B', 'group C',\n",
       "       'group D', 'group E', 'group B', 'group E', 'group C', 'group C',\n",
       "       'group C', 'group B', 'group A', 'group C', 'group D', 'group D',\n",
       "       'group B', 'group B', 'group C', 'group D', 'group C', 'group A',\n",
       "       'group C', 'group C', 'group A', 'group D', 'group E', 'group C',\n",
       "       'group D', 'group D', 'group D', 'group E', 'group D', 'group D',\n",
       "       'group A', 'group A', 'group B', 'group C', 'group C', 'group E',\n",
       "       'group A', 'group E', 'group E', 'group C', 'group D', 'group D',\n",
       "       'group E', 'group D', 'group E', 'group C', 'group C', 'group A',\n",
       "       'group B', 'group C', 'group B', 'group D', 'group C', 'group A',\n",
       "       'group A', 'group D', 'group C', 'group C', 'group B', 'group B',\n",
       "       'group D', 'group D', 'group D', 'group E', 'group D', 'group B',\n",
       "       'group C', 'group E', 'group C', 'group C', 'group D', 'group E',\n",
       "       'group C', 'group D', 'group D', 'group A', 'group B', 'group C',\n",
       "       'group C', 'group C', 'group A', 'group C', 'group C', 'group C',\n",
       "       'group C', 'group A', 'group C', 'group C', 'group D', 'group D',\n",
       "       'group C', 'group D', 'group C', 'group D', 'group A', 'group B',\n",
       "       'group A', 'group C', 'group D', 'group C', 'group B', 'group B',\n",
       "       'group C', 'group E', 'group C', 'group C', 'group C', 'group C',\n",
       "       'group D', 'group D', 'group E', 'group B', 'group C', 'group B',\n",
       "       'group E', 'group C', 'group A', 'group C', 'group D', 'group A',\n",
       "       'group A', 'group C', 'group C', 'group C', 'group C', 'group D',\n",
       "       'group B', 'group D', 'group E', 'group D', 'group D', 'group E',\n",
       "       'group B', 'group D', 'group C', 'group A', 'group B', 'group C',\n",
       "       'group D', 'group C', 'group B', 'group A', 'group A', 'group C',\n",
       "       'group C', 'group C', 'group B', 'group D', 'group C', 'group D',\n",
       "       'group B', 'group E', 'group D', 'group B', 'group C', 'group E',\n",
       "       'group D', 'group B', 'group A', 'group B', 'group C', 'group C',\n",
       "       'group D', 'group A', 'group D', 'group B', 'group B', 'group C',\n",
       "       'group D', 'group E', 'group D', 'group B', 'group D', 'group C',\n",
       "       'group D', 'group C', 'group C', 'group E', 'group C', 'group C',\n",
       "       'group D', 'group C', 'group C', 'group C', 'group E', 'group E',\n",
       "       'group B', 'group C', 'group C', 'group D', 'group E', 'group A',\n",
       "       'group C', 'group D', 'group C', 'group D', 'group D', 'group E',\n",
       "       'group A', 'group C', 'group C', 'group C', 'group C', 'group B',\n",
       "       'group B', 'group D', 'group E', 'group C', 'group C', 'group C',\n",
       "       'group B', 'group D', 'group D', 'group C', 'group C', 'group D',\n",
       "       'group B', 'group B', 'group E', 'group D', 'group B', 'group D',\n",
       "       'group B', 'group A', 'group C', 'group C', 'group E', 'group A',\n",
       "       'group A', 'group B', 'group B', 'group D', 'group D', 'group E',\n",
       "       'group D', 'group D', 'group D', 'group C', 'group A', 'group C',\n",
       "       'group C', 'group A', 'group C', 'group A', 'group E', 'group E',\n",
       "       'group C', 'group C', 'group B', 'group A', 'group D', 'group D',\n",
       "       'group D', 'group C', 'group E', 'group D', 'group D', 'group C',\n",
       "       'group C', 'group C', 'group E', 'group B', 'group D', 'group C',\n",
       "       'group C', 'group C', 'group A', 'group C', 'group E', 'group D',\n",
       "       'group D', 'group C', 'group C', 'group B', 'group C', 'group A',\n",
       "       'group E', 'group D', 'group B', 'group D', 'group D', 'group C',\n",
       "       'group D', 'group B', 'group B', 'group C', 'group D', 'group A',\n",
       "       'group B', 'group D', 'group E', 'group D', 'group D', 'group D',\n",
       "       'group B', 'group E', 'group B', 'group B', 'group D', 'group E',\n",
       "       'group B', 'group D', 'group C', 'group A', 'group D', 'group A',\n",
       "       'group B', 'group B', 'group C', 'group D', 'group D', 'group D',\n",
       "       'group C', 'group C', 'group D', 'group C', 'group D', 'group C',\n",
       "       'group C', 'group B', 'group C', 'group D', 'group C', 'group D',\n",
       "       'group C', 'group C', 'group D', 'group B', 'group E', 'group C',\n",
       "       'group D', 'group D', 'group D', 'group B', 'group B', 'group C',\n",
       "       'group B', 'group E', 'group E', 'group D', 'group A', 'group E',\n",
       "       'group C', 'group E', 'group C', 'group D', 'group C', 'group D',\n",
       "       'group C', 'group A', 'group D', 'group C', 'group E', 'group B',\n",
       "       'group A', 'group D', 'group B', 'group A', 'group D', 'group C',\n",
       "       'group D', 'group D', 'group C', 'group E', 'group D', 'group D',\n",
       "       'group B', 'group B', 'group C', 'group C', 'group C', 'group E',\n",
       "       'group C', 'group D', 'group B', 'group C', 'group B', 'group E',\n",
       "       'group E', 'group E', 'group D', 'group C', 'group B', 'group A',\n",
       "       'group C', 'group D', 'group E', 'group C', 'group C', 'group B',\n",
       "       'group D', 'group C', 'group D', 'group A', 'group C', 'group C',\n",
       "       'group B', 'group D', 'group D', 'group C', 'group C', 'group B',\n",
       "       'group D', 'group E', 'group C', 'group C', 'group C', 'group E',\n",
       "       'group D', 'group E', 'group D', 'group B', 'group C', 'group D',\n",
       "       'group D', 'group B', 'group D', 'group B', 'group C', 'group B',\n",
       "       'group D', 'group A', 'group B', 'group D', 'group B', 'group C',\n",
       "       'group B', 'group B', 'group B', 'group C', 'group A', 'group E',\n",
       "       'group D', 'group B', 'group B', 'group C', 'group C', 'group B',\n",
       "       'group E', 'group B', 'group C', 'group C', 'group B', 'group D',\n",
       "       'group D', 'group E', 'group B', 'group E', 'group D', 'group E',\n",
       "       'group E', 'group C', 'group C', 'group C', 'group E', 'group B',\n",
       "       'group C', 'group A', 'group D', 'group E', 'group C', 'group B',\n",
       "       'group A', 'group A', 'group C', 'group E', 'group C', 'group B',\n",
       "       'group A', 'group D', 'group B', 'group C', 'group A', 'group D',\n",
       "       'group E', 'group B', 'group C', 'group C', 'group C', 'group C',\n",
       "       'group D', 'group B', 'group A', 'group C', 'group A', 'group B',\n",
       "       'group B', 'group C', 'group E', 'group A', 'group B', 'group C',\n",
       "       'group D', 'group C', 'group B', 'group B', 'group D', 'group E',\n",
       "       'group C', 'group D', 'group C', 'group D', 'group C', 'group A',\n",
       "       'group E', 'group E', 'group C', 'group B', 'group B', 'group C',\n",
       "       'group B', 'group C', 'group C', 'group E', 'group D', 'group C',\n",
       "       'group C', 'group D', 'group C', 'group B', 'group E', 'group C',\n",
       "       'group B', 'group C', 'group B', 'group E', 'group C', 'group C',\n",
       "       'group D', 'group C', 'group D', 'group D', 'group C', 'group E',\n",
       "       'group B', 'group D', 'group E', 'group C', 'group E', 'group C',\n",
       "       'group D', 'group D', 'group E', 'group E', 'group A', 'group D',\n",
       "       'group E', 'group E', 'group B', 'group B', 'group D', 'group D',\n",
       "       'group D', 'group C', 'group A', 'group D', 'group D', 'group D',\n",
       "       'group B', 'group D', 'group C', 'group E', 'group D', 'group A',\n",
       "       'group C', 'group C', 'group B', 'group E', 'group E', 'group C',\n",
       "       'group C', 'group B', 'group D', 'group C', 'group D', 'group B',\n",
       "       'group D', 'group E', 'group E', 'group D', 'group E', 'group C',\n",
       "       'group C', 'group D', 'group D', 'group C', 'group C', 'group D',\n",
       "       'group A', 'group E', 'group D', 'group D', 'group C', 'group D',\n",
       "       'group C', 'group A', 'group B', 'group C', 'group B', 'group D',\n",
       "       'group B', 'group E', 'group E', 'group D', 'group E', 'group C',\n",
       "       'group C', 'group E', 'group C', 'group D', 'group D', 'group C',\n",
       "       'group A', 'group D', 'group E', 'group C', 'group D', 'group D',\n",
       "       'group A', 'group C', 'group E', 'group B', 'group D', 'group C',\n",
       "       'group A', 'group D', 'group A', 'group C', 'group B', 'group C',\n",
       "       'group D', 'group C', 'group B', 'group D', 'group B', 'group A',\n",
       "       'group C', 'group A', 'group C', 'group E', 'group A', 'group D',\n",
       "       'group E', 'group B', 'group D', 'group D', 'group A', 'group E',\n",
       "       'group C', 'group C', 'group D', 'group D'], dtype=object)"
      ]
     },
     "execution_count": 54,
     "metadata": {},
     "output_type": "execute_result"
    }
   ],
   "source": [
    "df['race/ethnicity'].values"
   ]
  },
  {
   "cell_type": "code",
   "execution_count": 52,
   "id": "f35f8174",
   "metadata": {},
   "outputs": [
    {
     "data": {
      "text/plain": [
       "group C    319\n",
       "group D    262\n",
       "group B    190\n",
       "group E    140\n",
       "group A     89\n",
       "Name: race/ethnicity, dtype: int64"
      ]
     },
     "execution_count": 52,
     "metadata": {},
     "output_type": "execute_result"
    }
   ],
   "source": [
    "#There are 5 different ethnic groups in the data frame, with group C appearing most and group A appearing least\n",
    "df['race/ethnicity'].value_counts()"
   ]
  },
  {
   "cell_type": "code",
   "execution_count": 55,
   "id": "286b9b9c",
   "metadata": {},
   "outputs": [
    {
     "data": {
      "text/plain": [
       "5"
      ]
     },
     "execution_count": 55,
     "metadata": {},
     "output_type": "execute_result"
    }
   ],
   "source": [
    "# 5 unique ethnic groups\n",
    "df['race/ethnicity'].nunique()"
   ]
  },
  {
   "cell_type": "code",
   "execution_count": 51,
   "id": "1c44dfe5",
   "metadata": {},
   "outputs": [
    {
     "data": {
      "text/plain": [
       "array(['group B', 'group C', 'group A', 'group D', 'group E'],\n",
       "      dtype=object)"
      ]
     },
     "execution_count": 51,
     "metadata": {},
     "output_type": "execute_result"
    }
   ],
   "source": [
    "df['race/ethnicity'].unique()"
   ]
  },
  {
   "cell_type": "code",
   "execution_count": 56,
   "id": "06d3e9fc",
   "metadata": {},
   "outputs": [
    {
     "data": {
      "text/plain": [
       "0    group C\n",
       "dtype: object"
      ]
     },
     "execution_count": 56,
     "metadata": {},
     "output_type": "execute_result"
    }
   ],
   "source": [
    "df['race/ethnicity'].mode()"
   ]
  },
  {
   "cell_type": "code",
   "execution_count": 38,
   "id": "ca1fca0a",
   "metadata": {},
   "outputs": [
    {
     "data": {
      "text/plain": [
       "count        1000\n",
       "unique          5\n",
       "top       group C\n",
       "freq          319\n",
       "Name: race/ethnicity, dtype: object"
      ]
     },
     "execution_count": 38,
     "metadata": {},
     "output_type": "execute_result"
    }
   ],
   "source": [
    "df['race/ethnicity'].describe()"
   ]
  },
  {
   "cell_type": "code",
   "execution_count": 79,
   "id": "db4f5f7c",
   "metadata": {},
   "outputs": [
    {
     "data": {
      "text/plain": [
       "66.089"
      ]
     },
     "execution_count": 79,
     "metadata": {},
     "output_type": "execute_result"
    }
   ],
   "source": [
    "#mean math score\n",
    "m= math_mean= df['math score'].mean()\n",
    "math_mean"
   ]
  },
  {
   "cell_type": "code",
   "execution_count": 80,
   "id": "4a1476ef",
   "metadata": {},
   "outputs": [
    {
     "data": {
      "text/plain": [
       "66.089"
      ]
     },
     "execution_count": 80,
     "metadata": {},
     "output_type": "execute_result"
    }
   ],
   "source": [
    "m"
   ]
  },
  {
   "cell_type": "code",
   "execution_count": 50,
   "id": "076500d0",
   "metadata": {},
   "outputs": [
    {
     "data": {
      "text/plain": [
       "66.089"
      ]
     },
     "execution_count": 50,
     "metadata": {},
     "output_type": "execute_result"
    }
   ],
   "source": []
  },
  {
   "cell_type": "code",
   "execution_count": 81,
   "id": "1a75cff1",
   "metadata": {},
   "outputs": [
    {
     "data": {
      "text/plain": [
       "69.169"
      ]
     },
     "execution_count": 81,
     "metadata": {},
     "output_type": "execute_result"
    }
   ],
   "source": [
    "#mean reading score\n",
    "r= reading_mean= df['reading score'].mean()\n",
    "reading_mean"
   ]
  },
  {
   "cell_type": "code",
   "execution_count": 82,
   "id": "a11cb890",
   "metadata": {},
   "outputs": [
    {
     "data": {
      "text/plain": [
       "68.054"
      ]
     },
     "execution_count": 82,
     "metadata": {},
     "output_type": "execute_result"
    }
   ],
   "source": [
    "#mean writing score\n",
    "w=writing_mean= df['writing score'].mean()\n",
    "writing_mean"
   ]
  },
  {
   "cell_type": "code",
   "execution_count": 61,
   "id": "32b95954",
   "metadata": {},
   "outputs": [
    {
     "data": {
      "text/plain": [
       "count       1000\n",
       "unique         2\n",
       "top       female\n",
       "freq         518\n",
       "Name: gender, dtype: object"
      ]
     },
     "execution_count": 61,
     "metadata": {},
     "output_type": "execute_result"
    }
   ],
   "source": [
    "df.gender.describe()"
   ]
  },
  {
   "cell_type": "markdown",
   "id": "7ec4019d",
   "metadata": {},
   "source": []
  },
  {
   "cell_type": "code",
   "execution_count": 63,
   "id": "6335ee5d",
   "metadata": {},
   "outputs": [
    {
     "data": {
      "text/plain": [
       "female    518\n",
       "male      482\n",
       "Name: gender, dtype: int64"
      ]
     },
     "execution_count": 63,
     "metadata": {},
     "output_type": "execute_result"
    }
   ],
   "source": [
    "#2 unique genders with more female than male\n",
    "df.gender.value_counts()"
   ]
  },
  {
   "cell_type": "code",
   "execution_count": 77,
   "id": "a37519c5",
   "metadata": {},
   "outputs": [
    {
     "data": {
      "text/plain": [
       "some college          226\n",
       "associate's degree    222\n",
       "high school           196\n",
       "some high school      179\n",
       "bachelor's degree     118\n",
       "master's degree        59\n",
       "Name: parental level of education, dtype: int64"
      ]
     },
     "execution_count": 77,
     "metadata": {},
     "output_type": "execute_result"
    }
   ],
   "source": [
    "parental_level_of_education.value_counts()"
   ]
  },
  {
   "cell_type": "code",
   "execution_count": 78,
   "id": "fe0dac68",
   "metadata": {},
   "outputs": [
    {
     "ename": "SyntaxError",
     "evalue": "invalid syntax (<ipython-input-78-576bd5ef0cad>, line 1)",
     "output_type": "error",
     "traceback": [
      "\u001b[1;36m  File \u001b[1;32m\"<ipython-input-78-576bd5ef0cad>\"\u001b[1;36m, line \u001b[1;32m1\u001b[0m\n\u001b[1;33m    df.('parental_level_of_education')\u001b[0m\n\u001b[1;37m       ^\u001b[0m\n\u001b[1;31mSyntaxError\u001b[0m\u001b[1;31m:\u001b[0m invalid syntax\n"
     ]
    }
   ],
   "source": [
    "df.('parental_level_of_education')\n"
   ]
  },
  {
   "cell_type": "code",
   "execution_count": 75,
   "id": "316c6b3b",
   "metadata": {},
   "outputs": [],
   "source": [
    "#df.parental_level_of_education was not responding, so i had to create my own series.\n",
    "parental_level_of_education= df.iloc[:,2]"
   ]
  },
  {
   "cell_type": "code",
   "execution_count": 76,
   "id": "be42de00",
   "metadata": {},
   "outputs": [
    {
     "data": {
      "text/plain": [
       "0       bachelor's degree\n",
       "1            some college\n",
       "2         master's degree\n",
       "3      associate's degree\n",
       "4            some college\n",
       "              ...        \n",
       "995       master's degree\n",
       "996           high school\n",
       "997           high school\n",
       "998          some college\n",
       "999          some college\n",
       "Name: parental level of education, Length: 1000, dtype: object"
      ]
     },
     "execution_count": 76,
     "metadata": {},
     "output_type": "execute_result"
    }
   ],
   "source": [
    "parental_level_of_education"
   ]
  },
  {
   "cell_type": "code",
   "execution_count": 90,
   "id": "1e2f0d90",
   "metadata": {},
   "outputs": [
    {
     "data": {
      "text/html": [
       "<div>\n",
       "<style scoped>\n",
       "    .dataframe tbody tr th:only-of-type {\n",
       "        vertical-align: middle;\n",
       "    }\n",
       "\n",
       "    .dataframe tbody tr th {\n",
       "        vertical-align: top;\n",
       "    }\n",
       "\n",
       "    .dataframe thead th {\n",
       "        text-align: right;\n",
       "    }\n",
       "</style>\n",
       "<table border=\"1\" class=\"dataframe\">\n",
       "  <thead>\n",
       "    <tr style=\"text-align: right;\">\n",
       "      <th></th>\n",
       "      <th>math score</th>\n",
       "      <th>reading score</th>\n",
       "      <th>writing score</th>\n",
       "    </tr>\n",
       "    <tr>\n",
       "      <th>gender</th>\n",
       "      <th></th>\n",
       "      <th></th>\n",
       "      <th></th>\n",
       "    </tr>\n",
       "  </thead>\n",
       "  <tbody>\n",
       "    <tr>\n",
       "      <th>female</th>\n",
       "      <td>63.633205</td>\n",
       "      <td>72.608108</td>\n",
       "      <td>72.467181</td>\n",
       "    </tr>\n",
       "    <tr>\n",
       "      <th>male</th>\n",
       "      <td>68.728216</td>\n",
       "      <td>65.473029</td>\n",
       "      <td>63.311203</td>\n",
       "    </tr>\n",
       "  </tbody>\n",
       "</table>\n",
       "</div>"
      ],
      "text/plain": [
       "        math score  reading score  writing score\n",
       "gender                                          \n",
       "female   63.633205      72.608108      72.467181\n",
       "male     68.728216      65.473029      63.311203"
      ]
     },
     "execution_count": 90,
     "metadata": {},
     "output_type": "execute_result"
    }
   ],
   "source": [
    "df.groupby('gender')[['math score','reading score','writing score']].mean()"
   ]
  },
  {
   "cell_type": "code",
   "execution_count": 93,
   "id": "95557827",
   "metadata": {},
   "outputs": [
    {
     "data": {
      "text/html": [
       "<div>\n",
       "<style scoped>\n",
       "    .dataframe tbody tr th:only-of-type {\n",
       "        vertical-align: middle;\n",
       "    }\n",
       "\n",
       "    .dataframe tbody tr th {\n",
       "        vertical-align: top;\n",
       "    }\n",
       "\n",
       "    .dataframe thead th {\n",
       "        text-align: right;\n",
       "    }\n",
       "</style>\n",
       "<table border=\"1\" class=\"dataframe\">\n",
       "  <thead>\n",
       "    <tr style=\"text-align: right;\">\n",
       "      <th></th>\n",
       "      <th>gender</th>\n",
       "      <th>race/ethnicity</th>\n",
       "      <th>parental level of education</th>\n",
       "      <th>lunch</th>\n",
       "      <th>test preparation course</th>\n",
       "      <th>math score</th>\n",
       "      <th>reading score</th>\n",
       "      <th>writing score</th>\n",
       "    </tr>\n",
       "  </thead>\n",
       "  <tbody>\n",
       "    <tr>\n",
       "      <th>0</th>\n",
       "      <td>female</td>\n",
       "      <td>group B</td>\n",
       "      <td>bachelor's degree</td>\n",
       "      <td>standard</td>\n",
       "      <td>none</td>\n",
       "      <td>72</td>\n",
       "      <td>72</td>\n",
       "      <td>74</td>\n",
       "    </tr>\n",
       "    <tr>\n",
       "      <th>1</th>\n",
       "      <td>female</td>\n",
       "      <td>group C</td>\n",
       "      <td>some college</td>\n",
       "      <td>standard</td>\n",
       "      <td>completed</td>\n",
       "      <td>69</td>\n",
       "      <td>90</td>\n",
       "      <td>88</td>\n",
       "    </tr>\n",
       "    <tr>\n",
       "      <th>2</th>\n",
       "      <td>female</td>\n",
       "      <td>group B</td>\n",
       "      <td>master's degree</td>\n",
       "      <td>standard</td>\n",
       "      <td>none</td>\n",
       "      <td>90</td>\n",
       "      <td>95</td>\n",
       "      <td>93</td>\n",
       "    </tr>\n",
       "    <tr>\n",
       "      <th>3</th>\n",
       "      <td>male</td>\n",
       "      <td>group A</td>\n",
       "      <td>associate's degree</td>\n",
       "      <td>free/reduced</td>\n",
       "      <td>none</td>\n",
       "      <td>47</td>\n",
       "      <td>57</td>\n",
       "      <td>44</td>\n",
       "    </tr>\n",
       "    <tr>\n",
       "      <th>4</th>\n",
       "      <td>male</td>\n",
       "      <td>group C</td>\n",
       "      <td>some college</td>\n",
       "      <td>standard</td>\n",
       "      <td>none</td>\n",
       "      <td>76</td>\n",
       "      <td>78</td>\n",
       "      <td>75</td>\n",
       "    </tr>\n",
       "  </tbody>\n",
       "</table>\n",
       "</div>"
      ],
      "text/plain": [
       "   gender race/ethnicity parental level of education         lunch  \\\n",
       "0  female        group B           bachelor's degree      standard   \n",
       "1  female        group C                some college      standard   \n",
       "2  female        group B             master's degree      standard   \n",
       "3    male        group A          associate's degree  free/reduced   \n",
       "4    male        group C                some college      standard   \n",
       "\n",
       "  test preparation course  math score  reading score  writing score  \n",
       "0                    none          72             72             74  \n",
       "1               completed          69             90             88  \n",
       "2                    none          90             95             93  \n",
       "3                    none          47             57             44  \n",
       "4                    none          76             78             75  "
      ]
     },
     "execution_count": 93,
     "metadata": {},
     "output_type": "execute_result"
    }
   ],
   "source": [
    "df.head()"
   ]
  },
  {
   "cell_type": "code",
   "execution_count": 91,
   "id": "f3de942c",
   "metadata": {},
   "outputs": [
    {
     "data": {
      "text/html": [
       "<div>\n",
       "<style scoped>\n",
       "    .dataframe tbody tr th:only-of-type {\n",
       "        vertical-align: middle;\n",
       "    }\n",
       "\n",
       "    .dataframe tbody tr th {\n",
       "        vertical-align: top;\n",
       "    }\n",
       "\n",
       "    .dataframe thead th {\n",
       "        text-align: right;\n",
       "    }\n",
       "</style>\n",
       "<table border=\"1\" class=\"dataframe\">\n",
       "  <thead>\n",
       "    <tr style=\"text-align: right;\">\n",
       "      <th></th>\n",
       "      <th>math score</th>\n",
       "      <th>reading score</th>\n",
       "      <th>writing score</th>\n",
       "    </tr>\n",
       "    <tr>\n",
       "      <th>race/ethnicity</th>\n",
       "      <th></th>\n",
       "      <th></th>\n",
       "      <th></th>\n",
       "    </tr>\n",
       "  </thead>\n",
       "  <tbody>\n",
       "    <tr>\n",
       "      <th>group A</th>\n",
       "      <td>61.629213</td>\n",
       "      <td>64.674157</td>\n",
       "      <td>62.674157</td>\n",
       "    </tr>\n",
       "    <tr>\n",
       "      <th>group B</th>\n",
       "      <td>63.452632</td>\n",
       "      <td>67.352632</td>\n",
       "      <td>65.600000</td>\n",
       "    </tr>\n",
       "    <tr>\n",
       "      <th>group C</th>\n",
       "      <td>64.463950</td>\n",
       "      <td>69.103448</td>\n",
       "      <td>67.827586</td>\n",
       "    </tr>\n",
       "    <tr>\n",
       "      <th>group D</th>\n",
       "      <td>67.362595</td>\n",
       "      <td>70.030534</td>\n",
       "      <td>70.145038</td>\n",
       "    </tr>\n",
       "    <tr>\n",
       "      <th>group E</th>\n",
       "      <td>73.821429</td>\n",
       "      <td>73.028571</td>\n",
       "      <td>71.407143</td>\n",
       "    </tr>\n",
       "  </tbody>\n",
       "</table>\n",
       "</div>"
      ],
      "text/plain": [
       "                math score  reading score  writing score\n",
       "race/ethnicity                                          \n",
       "group A          61.629213      64.674157      62.674157\n",
       "group B          63.452632      67.352632      65.600000\n",
       "group C          64.463950      69.103448      67.827586\n",
       "group D          67.362595      70.030534      70.145038\n",
       "group E          73.821429      73.028571      71.407143"
      ]
     },
     "execution_count": 91,
     "metadata": {},
     "output_type": "execute_result"
    }
   ],
   "source": [
    "df.groupby('race/ethnicity')[['math score','reading score','writing score']].mean()"
   ]
  },
  {
   "cell_type": "code",
   "execution_count": 94,
   "id": "a9707ada",
   "metadata": {
    "scrolled": true
   },
   "outputs": [
    {
     "data": {
      "text/html": [
       "<div>\n",
       "<style scoped>\n",
       "    .dataframe tbody tr th:only-of-type {\n",
       "        vertical-align: middle;\n",
       "    }\n",
       "\n",
       "    .dataframe tbody tr th {\n",
       "        vertical-align: top;\n",
       "    }\n",
       "\n",
       "    .dataframe thead th {\n",
       "        text-align: right;\n",
       "    }\n",
       "</style>\n",
       "<table border=\"1\" class=\"dataframe\">\n",
       "  <thead>\n",
       "    <tr style=\"text-align: right;\">\n",
       "      <th></th>\n",
       "      <th>math score</th>\n",
       "      <th>reading score</th>\n",
       "      <th>writing score</th>\n",
       "    </tr>\n",
       "    <tr>\n",
       "      <th>test preparation course</th>\n",
       "      <th></th>\n",
       "      <th></th>\n",
       "      <th></th>\n",
       "    </tr>\n",
       "  </thead>\n",
       "  <tbody>\n",
       "    <tr>\n",
       "      <th>completed</th>\n",
       "      <td>69.695531</td>\n",
       "      <td>73.893855</td>\n",
       "      <td>74.418994</td>\n",
       "    </tr>\n",
       "    <tr>\n",
       "      <th>none</th>\n",
       "      <td>64.077882</td>\n",
       "      <td>66.534268</td>\n",
       "      <td>64.504673</td>\n",
       "    </tr>\n",
       "  </tbody>\n",
       "</table>\n",
       "</div>"
      ],
      "text/plain": [
       "                         math score  reading score  writing score\n",
       "test preparation course                                          \n",
       "completed                 69.695531      73.893855      74.418994\n",
       "none                      64.077882      66.534268      64.504673"
      ]
     },
     "execution_count": 94,
     "metadata": {},
     "output_type": "execute_result"
    }
   ],
   "source": [
    "df.groupby('test preparation course')[['math score','reading score','writing score']].mean()"
   ]
  },
  {
   "cell_type": "code",
   "execution_count": 95,
   "id": "f1d8448e",
   "metadata": {},
   "outputs": [
    {
     "data": {
      "text/html": [
       "<div>\n",
       "<style scoped>\n",
       "    .dataframe tbody tr th:only-of-type {\n",
       "        vertical-align: middle;\n",
       "    }\n",
       "\n",
       "    .dataframe tbody tr th {\n",
       "        vertical-align: top;\n",
       "    }\n",
       "\n",
       "    .dataframe thead th {\n",
       "        text-align: right;\n",
       "    }\n",
       "</style>\n",
       "<table border=\"1\" class=\"dataframe\">\n",
       "  <thead>\n",
       "    <tr style=\"text-align: right;\">\n",
       "      <th></th>\n",
       "      <th>math score</th>\n",
       "      <th>reading score</th>\n",
       "      <th>writing score</th>\n",
       "    </tr>\n",
       "    <tr>\n",
       "      <th>lunch</th>\n",
       "      <th></th>\n",
       "      <th></th>\n",
       "      <th></th>\n",
       "    </tr>\n",
       "  </thead>\n",
       "  <tbody>\n",
       "    <tr>\n",
       "      <th>free/reduced</th>\n",
       "      <td>58.921127</td>\n",
       "      <td>64.653521</td>\n",
       "      <td>63.022535</td>\n",
       "    </tr>\n",
       "    <tr>\n",
       "      <th>standard</th>\n",
       "      <td>70.034109</td>\n",
       "      <td>71.654264</td>\n",
       "      <td>70.823256</td>\n",
       "    </tr>\n",
       "  </tbody>\n",
       "</table>\n",
       "</div>"
      ],
      "text/plain": [
       "              math score  reading score  writing score\n",
       "lunch                                                 \n",
       "free/reduced   58.921127      64.653521      63.022535\n",
       "standard       70.034109      71.654264      70.823256"
      ]
     },
     "execution_count": 95,
     "metadata": {},
     "output_type": "execute_result"
    }
   ],
   "source": [
    "df.groupby('lunch')[['math score','reading score','writing score']].mean()"
   ]
  },
  {
   "cell_type": "code",
   "execution_count": 98,
   "id": "0b5fd754",
   "metadata": {},
   "outputs": [
    {
     "ename": "SyntaxError",
     "evalue": "invalid syntax (<ipython-input-98-ea946ed1725f>, line 1)",
     "output_type": "error",
     "traceback": [
      "\u001b[1;36m  File \u001b[1;32m\"<ipython-input-98-ea946ed1725f>\"\u001b[1;36m, line \u001b[1;32m1\u001b[0m\n\u001b[1;33m    df.level of education\u001b[0m\n\u001b[1;37m             ^\u001b[0m\n\u001b[1;31mSyntaxError\u001b[0m\u001b[1;31m:\u001b[0m invalid syntax\n"
     ]
    }
   ],
   "source": [
    "df.level of education"
   ]
  },
  {
   "cell_type": "code",
   "execution_count": 99,
   "id": "c37fe4f1",
   "metadata": {},
   "outputs": [],
   "source": [
    "import matplotlib.pyplot as plt"
   ]
  },
  {
   "cell_type": "code",
   "execution_count": 100,
   "id": "8d703db4",
   "metadata": {},
   "outputs": [],
   "source": [
    "import numpy as np"
   ]
  },
  {
   "cell_type": "code",
   "execution_count": 103,
   "id": "7bd394e4",
   "metadata": {},
   "outputs": [
    {
     "ename": "AttributeError",
     "evalue": "'function' object has no attribute 'plot'",
     "output_type": "error",
     "traceback": [
      "\u001b[1;31m---------------------------------------------------------------------------\u001b[0m",
      "\u001b[1;31mAttributeError\u001b[0m                            Traceback (most recent call last)",
      "\u001b[1;32m<ipython-input-103-75fa34169ed8>\u001b[0m in \u001b[0;36m<module>\u001b[1;34m\u001b[0m\n\u001b[1;32m----> 1\u001b[1;33m \u001b[0mdf\u001b[0m\u001b[1;33m[\u001b[0m\u001b[1;34m'math score'\u001b[0m\u001b[1;33m]\u001b[0m\u001b[1;33m.\u001b[0m\u001b[0mvalue_counts\u001b[0m\u001b[1;33m(\u001b[0m\u001b[1;33m)\u001b[0m\u001b[1;33m.\u001b[0m\u001b[0msort_index\u001b[0m\u001b[1;33m.\u001b[0m\u001b[0mplot\u001b[0m\u001b[1;33m.\u001b[0m\u001b[0mbar\u001b[0m\u001b[1;33m(\u001b[0m\u001b[1;33m)\u001b[0m\u001b[1;33m\u001b[0m\u001b[1;33m\u001b[0m\u001b[0m\n\u001b[0m",
      "\u001b[1;31mAttributeError\u001b[0m: 'function' object has no attribute 'plot'"
     ]
    }
   ],
   "source": [
    "df['math score'].value_counts().sort_index.plot.bar()"
   ]
  },
  {
   "cell_type": "code",
   "execution_count": null,
   "id": "5115119e",
   "metadata": {},
   "outputs": [],
   "source": []
  }
 ],
 "metadata": {
  "kernelspec": {
   "display_name": "Python 3",
   "language": "python",
   "name": "python3"
  },
  "language_info": {
   "codemirror_mode": {
    "name": "ipython",
    "version": 3
   },
   "file_extension": ".py",
   "mimetype": "text/x-python",
   "name": "python",
   "nbconvert_exporter": "python",
   "pygments_lexer": "ipython3",
   "version": "3.8.8"
  }
 },
 "nbformat": 4,
 "nbformat_minor": 5
}
